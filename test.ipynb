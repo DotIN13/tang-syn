{
 "cells": [
  {
   "cell_type": "code",
   "execution_count": 2,
   "metadata": {},
   "outputs": [
    {
     "name": "stderr",
     "output_type": "stream",
     "text": [
      "Could not find image processor class in the image processor config or the model config. Loading based on pattern matching with the model's feature extractor configuration.\n"
     ]
    },
    {
     "data": {
      "text/plain": [
       "(tensor([[ 101,  101, 3136,  679, 1962, 8024,  679, 3221, 2769,  812, 1962, 2345,\n",
       "           818, 8038,  791, 1921, 2218, 6382, 1168, 6821, 7027,  711,  102]]),\n",
       " '教 不 好 ， 不 是 我 们 好 差 任 ： 今 天 就 讲 到 这 里 为')"
      ]
     },
     "execution_count": 2,
     "metadata": {},
     "output_type": "execute_result"
    }
   ],
   "source": [
    "from transformers import TrOCRProcessor, VisionEncoderDecoderModel, AutoTokenizer\n",
    "from PIL import Image\n",
    "import torch\n",
    "device = torch.device('cpu')\n",
    "\n",
    "model = VisionEncoderDecoderModel.from_pretrained(\"checkpoints/checkpoint-90000\")\n",
    "tokenizer = AutoTokenizer.from_pretrained(\"hfl/chinese-macbert-base\")\n",
    "processor = TrOCRProcessor.from_pretrained(\"microsoft/trocr-base-handwritten\")\n",
    "\n",
    "image = Image.open(\"sample_imgs/1.png\").convert(\"RGB\")\n",
    "\n",
    "pixel_values = (processor(image, return_tensors=\"pt\").pixel_values).to(device)\n",
    "generated_ids = model.generate(pixel_values)\n",
    "generated_text = tokenizer.batch_decode(generated_ids, skip_special_tokens=True)[0] \n",
    "generated_ids, generated_text"
   ]
  }
 ],
 "metadata": {
  "kernelspec": {
   "display_name": "venv",
   "language": "python",
   "name": "python3"
  },
  "language_info": {
   "codemirror_mode": {
    "name": "ipython",
    "version": 3
   },
   "file_extension": ".py",
   "mimetype": "text/x-python",
   "name": "python",
   "nbconvert_exporter": "python",
   "pygments_lexer": "ipython3",
   "version": "3.11.3"
  },
  "orig_nbformat": 4
 },
 "nbformat": 4,
 "nbformat_minor": 2
}
